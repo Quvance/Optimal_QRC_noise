{
 "cells": [
  {
   "cell_type": "markdown",
   "id": "c4c01dac",
   "metadata": {},
   "source": [
    "## Quantum reservoir computing\n",
    "\n",
    "In this notebook we show how to design the quantum circuits that will be used as quantum reservoirs. We apply this framework to analyse the LiH molecule. The study for the H2O molecule is equivalent.\n",
    "\n",
    "## Noise models\n",
    "\n",
    "### Amplitude damping\n",
    "\n",
    "The amplitude-damping channel is a schematic model of the decay of an excited state of a (two-level) atom due to spontaneous emission of a photon. By detecting the emitted photon (“observing the environment”) we can perform a POVM that gives us information about the initial preparation of the atom. \n",
    "\n",
    "+ Unitary representation: We denote the atomic ground state by $|0>_A$ and the excited state of interest by $|1>_A$. The environment is the electromagnetic field, assumed initially to be in its vacuum state $|0>_E$. After we wait a while, there is a probability $p$ that the excited state has decayed to the ground state and a photon has been emitted, so that the environment\n",
    "has made a transition from the state $|0>_E$ (no photon) to the state $|1>_E$ (one photon emitted). The evolution of the atom and environment quantum states is given by:\n",
    "\n",
    "\n",
    "$$\n",
    "|0>_A \\otimes |0>_E \\longrightarrow |0>_A \\otimes |0>_E \n",
    "$$\n",
    "\n",
    "$$\n",
    "|1>_A \\otimes |0>_E \\longrightarrow \\sqrt{1-p}|1>_A \\otimes |0>_E + \\sqrt{p}|0>_A \\otimes |1>_E\n",
    "$$\n",
    "\n",
    "+ Kraus operators: By evaluating the partial trace over the environment in the basis $\\{|0>_E, |1>_E\\}$, we find the Kraus operators\n",
    "\n",
    "$$\n",
    "M_0 = \n",
    "\\begin{pmatrix} \n",
    "    1 & 0 \\\\\n",
    "    0 & \\sqrt{1-p}\n",
    "\\end{pmatrix}\n",
    "$$\n",
    "\n",
    "$$\n",
    "M_1 = \n",
    "\\begin{pmatrix} \n",
    "0 & \\sqrt{p} \\\\\n",
    "0 & 0\n",
    "\\end{pmatrix}\n",
    "$$\n",
    "\n",
    "The operator $M_1$ induces a quantum jump, the decay from $|1>_A$ to $|0>_A$, and $M_0$ describes how the state changes if no jump occurs. The density matrix evolves as\n",
    "\n",
    "$$\n",
    "\\rho \\longrightarrow \\epsilon(\\rho) = M_0\\rho M_0^T + M_1\\rho M_1^T = \n",
    "\\begin{pmatrix}\n",
    "\\rho_{00} + p\\rho_{11} & \\sqrt{1-p} \\rho_{01} \\\\\n",
    "\\sqrt{1-p} \\rho_{10} & (1-p)\\rho_{11}\n",
    "\\end{pmatrix}\n",
    "$$\n",
    "\n"
   ]
  },
  {
   "cell_type": "markdown",
   "id": "21304b56",
   "metadata": {},
   "source": [
    "### Depolarizing noise\n",
    "\n",
    "The depolarizing channel is a model where a qubit suffers an error with probability $p$, and stays intact with probability $1-p$. Three types of error can occur, with equal probability:\n",
    "\n",
    "+ 1. Bit-flip error: $|0> \\longrightarrow |1>, |1> \\longrightarrow |0>$, or equivalently $|\\psi> \\longrightarrow X |\\psi>$\n",
    "+ 2. Phase-flip error: $|0> \\longrightarrow |0>, |1> \\longrightarrow -|1>$, or equivalently $|\\psi> \\longrightarrow Z |\\psi>$\n",
    "+ 3. Both errors: $|0> \\longrightarrow i|1>, |1> \\longrightarrow -i|0>$, or equivalently $|\\psi> \\longrightarrow Y |\\psi>$\n",
    "\n",
    "\n",
    "If an error occurs, then $|\\psi>$ evolves to an ensemble of the three states $X|\\psi>$, $Y|\\psi>$, $Z|\\psi>$, all occurring with equal likelihood.\n",
    "\n",
    "+ Unitary representation: A state $|\\psi>_A$ evolves to\n",
    "\n",
    "$$\n",
    "|\\psi>_A \\longrightarrow \\sqrt{1-p}|\\psi>_A \\otimes |0>_E + \\sqrt{\\frac{p}{3}} (X|\\psi>_A\\otimes |1>_E + Y|\\psi>_A\\otimes |2>_E + Z|\\psi>_A\\otimes |3>_E\n",
    "$$\n",
    "\n",
    "+ Kraus representation: By evaluating the partial trace over the 4-level environment, we obtain the Kraus operators\n",
    "\n",
    "$$\n",
    "M_0 = \\sqrt{1-p} I, M_1= \\sqrt{\\frac{p}{3}}X, M_2= \\sqrt{\\frac{p}{3}}Y, M_3= \\sqrt{\\frac{p}{3}}Z\n",
    "$$\n",
    "\n",
    "The density matrix evolves like:\n",
    "\n",
    "$$\n",
    "\\rho \\longrightarrow (1-p)\\rho + \\frac{p}{3}(X\\rho X + Y\\rho Y + Z\\rho Z)\n",
    "$$"
   ]
  },
  {
   "cell_type": "markdown",
   "id": "63da2c86",
   "metadata": {},
   "source": [
    "### Phase damping\n",
    "\n",
    "In this case, qubit A does not make any transitions in the computational basis $\\{|0>_A, |1>_A\\}$. Instead, the environment scatters off of the qubit occasionally (with probability $p$), being kicked into the state $|1>_E$ if A is in the state $|0>_A$ and into the state $|2>_E$ if A is in the state $|1>_A$. Furthermore, also unlike the depolarizing channel, the channel picks out a preferred basis for qubit A; the basis $\\{|0>_A, |1>_A\\}$ is the only basis in which bit flips never occur.\n",
    "\n",
    "+ Unitary representation: \n",
    "\n",
    "$$\n",
    "|0>_A \\longrightarrow \\sqrt{1-p} |0>_A \\otimes |0>_E + \\sqrt{p} |0>_A \\otimes |1>_E\n",
    "$$\n",
    "$$\n",
    "|1>_A \\longrightarrow \\sqrt{1-p} |1>_A \\otimes |0>_E + \\sqrt{p} |1>_A \\otimes |2>_E\n",
    "$$\n",
    "\n",
    "+ Kraus operators: evaluating the partial trace over qubit E, we find:\n",
    "\n",
    "$$\n",
    "M_0 = \\sqrt{1-p} I, \n",
    "M_1 = \\sqrt{p} \n",
    "\\begin{pmatrix}\n",
    "1 & 0 \\\\\n",
    "0 & 0 \\\\\n",
    "\\end{pmatrix},\n",
    "M_2 = \\sqrt{p} \n",
    "\\begin{pmatrix}\n",
    "0 & 0 \\\\\n",
    "0 & 1 \\\\\n",
    "\\end{pmatrix}\n",
    "$$\n",
    "\n",
    "and the density matrix evolves as:\n",
    "\n",
    "$$\n",
    "\\rho \\longrightarrow \\epsilon(\\rho) = (1 - \\frac{1}{2}p)\\rho + \\frac{p}{2} Z\\rho Z\n",
    "$$\n",
    "so an alternative description of the channel is that $Z$ is applied with probability $p/2$ and nothing happens with probability $(1 − p/2)$."
   ]
  },
  {
   "cell_type": "code",
   "execution_count": 1,
   "id": "0a30830b",
   "metadata": {},
   "outputs": [
    {
     "name": "stderr",
     "output_type": "stream",
     "text": [
      "C:\\Users\\laiad\\AppData\\Local\\Temp/ipykernel_28372/1841039322.py:18: DeprecationWarning: The module 'qiskit.test.mock' is deprecated since Qiskit Terra 0.21.0, and will be removed 3 months or more later. Instead, you should import the desired object directly 'qiskit.providers.fake_provider'.\n",
      "  from qiskit.test.mock import FakeProvider\n"
     ]
    }
   ],
   "source": [
    "import numpy as np\n",
    "from numpy.lib.scimath import sqrt as csqrt\n",
    "from qiskit import QuantumCircuit,execute\n",
    "from qiskit import BasicAer\n",
    "from qiskit.compiler import transpile\n",
    "from qiskit.quantum_info import Statevector\n",
    "from scipy.stats import unitary_group\n",
    "\n",
    "from qiskit.opflow import StateFn\n",
    "from qiskit.opflow import Z,X,Y\n",
    "from qiskit.quantum_info import Pauli\n",
    "from qiskit.opflow import *\n",
    "from qiskit.circuit.library import Diagonal\n",
    "from qiskit.extensions import  UnitaryGate\n",
    "from qiskit.providers.aer.noise import NoiseModel\n",
    "import qiskit.providers.aer.noise as noise\n",
    "from qiskit import IBMQ, Aer\n",
    "from qiskit.test.mock import FakeProvider\n",
    "from qiskit.test.mock import *\n",
    "from qiskit.quantum_info import Statevector, state_fidelity\n",
    "from qiskit.providers.aer.library import SaveDensityMatrix, SaveSuperOp\n",
    "from qiskit.quantum_info import purity\n",
    "from qiskit.providers.aer import AerSimulator\n",
    "from qiskit.extensions import UnitaryGate\n",
    "\n",
    "import random\n",
    "from tqdm import tqdm\n",
    "\n",
    "from sklearn.preprocessing import MinMaxScaler\n",
    "from sklearn.model_selection import train_test_split\n",
    "from sklearn.linear_model import Ridge\n",
    "import matplotlib.pyplot as plt\n",
    "\n",
    "import itertools"
   ]
  },
  {
   "cell_type": "code",
   "execution_count": 2,
   "id": "e26b6b73",
   "metadata": {},
   "outputs": [],
   "source": [
    "with open('../training_data/spectrums_LiH.npy', 'rb') as f:\n",
    "            spectrums = np.load(f)\n",
    "with open('../training_data/bond_lengths_LiH.npy', 'rb') as f:\n",
    "            bond_lengths = np.load(f)\n",
    "with open('../training_data/ground_states_LiH.npy', 'rb') as f:\n",
    "            ground_states = np.load(f)"
   ]
  },
  {
   "cell_type": "markdown",
   "id": "79a40efe",
   "metadata": {},
   "source": [
    "## Initialize the quantum circuit\n",
    "\n",
    "The input quantum state of the quantum circuit is the ground state of the molecule. Therefore, we need to initialize the circuit with a state different than $|00..0>$. We use Qiskit to create the circuit to initialize the quantum circuit."
   ]
  },
  {
   "cell_type": "code",
   "execution_count": 31,
   "id": "859a3911",
   "metadata": {},
   "outputs": [],
   "source": [
    "initial_state = ground_states[-1].round(6)\n",
    "initial_state/=np.sqrt(np.sum(initial_state**2))"
   ]
  },
  {
   "cell_type": "code",
   "execution_count": 32,
   "id": "672e3c9d",
   "metadata": {},
   "outputs": [
    {
     "data": {
      "image/png": "[encoded data removed]",
      "text/plain": [
       "<Figure size 447.797x505.68 with 1 Axes>"
      ]
     },
     "execution_count": 32,
     "metadata": {},
     "output_type": "execute_result"
    }
   ],
   "source": [
    "nqbits = 8\n",
    "qc = QuantumCircuit(nqbits)\n",
    "qc.initialize(initial_state, list(range(nqbits)))\n",
    "qc.draw('mpl')"
   ]
  },
  {
   "cell_type": "markdown",
   "id": "4eb8fa8b",
   "metadata": {},
   "source": [
    "We check that the circuit in fact creates the initial state that we want. We measure the final state and compared to the ground state."
   ]
  },
  {
   "cell_type": "code",
   "execution_count": 33,
   "id": "c044096b",
   "metadata": {},
   "outputs": [
    {
     "name": "stdout",
     "output_type": "stream",
     "text": [
      "Proportion of equal values 1.0\n"
     ]
    },
    {
     "data": {
      "text/plain": [
       "{'00000011': (0.10606201687351394+2.36876490644633e-15j),\n",
       " '00001100': (0.006030000959318953+1.4422599399488423e-16j),\n",
       " '00010010': (-0.23841403792953172-5.860763263587643e-15j),\n",
       " '00100001': (0.23841403792953172+5.8538243696837355e-15j),\n",
       " '00110000': (0.45896907301785483+1.1568870861289327e-14j),\n",
       " '01000010': (-0.06954201106350937-1.7767905202692447e-15j),\n",
       " '01100000': (0.14577802319197422+3.589576552665008e-15j),\n",
       " '10000001': (0.06954201106350906+1.3728167908011457e-15j),\n",
       " '10010000': (-0.14577802319197372-3.456436525883788e-15j),\n",
       " '11000000': (-0.782435124478398-1.8922363675955012e-14j)}"
      ]
     },
     "execution_count": 33,
     "metadata": {},
     "output_type": "execute_result"
    }
   ],
   "source": [
    "backend = BasicAer.get_backend('statevector_simulator')\n",
    "job = backend.run(transpile(qc, backend))\n",
    "qc_state = job.result().get_statevector(qc)\n",
    "print('Proportion of equal values', np.sum(np.isclose(qc_state, initial_state))/len(qc_state))\n",
    "\n",
    "Statevector(qc_state).to_dict()"
   ]
  },
  {
   "cell_type": "markdown",
   "id": "f2a7c602",
   "metadata": {},
   "source": [
    "Now that we have checked that the circuit reproduced the initial state, we create the actual quantum circuit that we use as a reservoir."
   ]
  },
  {
   "cell_type": "markdown",
   "id": "c877a0c6",
   "metadata": {},
   "source": [
    "## Create the quantum circuit\n",
    "\n",
    "Now we define the gates applied to the quantum circuit. In this case, we will sample the gates from the set \n",
    "\n",
    "$$\n",
    "G_1 = \\{CNOT, H, X\\}\n",
    "$$\n",
    "\n",
    "where CNOT is the controlled-NOT gate, H stands for Hadamard, and X is the NOT gate. We generate the gates randomly and select the qubit where it applies also randomly."
   ]
  },
  {
   "cell_type": "code",
   "execution_count": 164,
   "id": "22662405",
   "metadata": {},
   "outputs": [
    {
     "data": {
      "image/png": "[encoded data removed]",
      "text/plain": [
       "<Figure size 808.997x505.68 with 1 Axes>"
      ]
     },
     "execution_count": 164,
     "metadata": {},
     "output_type": "execute_result"
    }
   ],
   "source": [
    "num_gates=10\n",
    "nqbits = 8\n",
    "gates_set = ['CNOT', 'X', 'H']\n",
    "gate_idx = list(range(len(gates_set)))\n",
    "qubit_idx = list(range(nqbits))\n",
    "\n",
    "# Initialize quantum circuit\n",
    "qc_initial = QuantumCircuit(nqbits, name='initial')\n",
    "qc_initial.initialize(initial_state, list(range(nqbits)))\n",
    "\n",
    "qc_gates = QuantumCircuit(nqbits)\n",
    "# Apply random gates to random qubits\n",
    "for i in range(num_gates):\n",
    "    # Select random gate\n",
    "    idx = random.sample(gate_idx,1)[0] \n",
    "    gate = gates_set[idx]\n",
    "    if gate=='CNOT': # For 2-qubit gates\n",
    "        # Select qubit 1 and 2 (different qubits)\n",
    "        qbit1 = random.sample(qubit_idx,1)[0]\n",
    "        qubit_idx2 = qubit_idx.copy()\n",
    "        qubit_idx2.remove(qbit1)\n",
    "        qbit2 = random.sample(qubit_idx2,1)[0]\n",
    "        qubit_idx2.remove(qbit2)\n",
    "        # Apply gate to qubits\n",
    "        qc_gates.cx(qbit1, qbit2) \n",
    "        # Apply identity gates to other gates\n",
    "        #for qbit in qubit_idx2:\n",
    "        #    qc_gates.id(qbit)\n",
    "    else: # For 1-qubit gates\n",
    "        # Select qubit\n",
    "        qbit = random.sample(qubit_idx,1)[0]\n",
    "        qubit_idx2 = qubit_idx.copy()\n",
    "        qubit_idx2.remove(qbit)\n",
    "        if gate=='X':# Apply gate\n",
    "            qc_gates.x(qbit) \n",
    "        if gate=='S':\n",
    "            qc_gates.s(qbit) \n",
    "        if gate=='H':\n",
    "            qc_gates.h(qbit) \n",
    "        if gate=='T':\n",
    "            qc_gates.t(qbit) \n",
    "        # Apply identity gates to other gates\n",
    "        #for qbit in qubit_idx2:\n",
    "        #    qc_gates.id(qbit)\n",
    "            \n",
    "qc = qc_initial.compose(qc_gates)\n",
    "qubits = [i for i in range(qc.num_qubits)]\n",
    "qc.append(SaveDensityMatrix(qc.num_qubits, label=f'rho'), qubits)\n",
    "qc.draw('mpl')"
   ]
  },
  {
   "cell_type": "code",
   "execution_count": 7,
   "id": "7f3474ed",
   "metadata": {},
   "outputs": [
    {
     "name": "stdout",
     "output_type": "stream",
     "text": [
      "gates =  OrderedDict([('cx', 408), ('ry', 248), ('rz', 141), ('u3', 7)])\n",
      "depth =  797\n"
     ]
    }
   ],
   "source": [
    "backend = AerSimulator(method='density_matrix')\n",
    "# The device coupling map is needed for transpiling to correct\n",
    "# CNOT gates before simulation\n",
    "coupling_map = backend.configuration().coupling_map\n",
    "optimized_3 = transpile(qc_initial, backend=backend, seed_transpiler=11, optimization_level=3)\n",
    "print('gates = ', optimized_3.count_ops())\n",
    "print('depth = ', optimized_3.depth())"
   ]
  },
  {
   "cell_type": "code",
   "execution_count": 8,
   "id": "1e33a5f2",
   "metadata": {},
   "outputs": [
    {
     "name": "stdout",
     "output_type": "stream",
     "text": [
      "gates =  OrderedDict([('cx', 3), ('x', 3), ('h', 2), ('u2', 1)])\n",
      "depth =  4\n"
     ]
    }
   ],
   "source": [
    "backend = AerSimulator(method='density_matrix')\n",
    "# The device coupling map is needed for transpiling to correct\n",
    "# CNOT gates before simulation\n",
    "coupling_map = backend.configuration().coupling_map\n",
    "optimized_3 = transpile(qc_gates, backend=backend, seed_transpiler=11, optimization_level=3)\n",
    "print('gates = ', optimized_3.count_ops())\n",
    "print('depth = ', optimized_3.depth())"
   ]
  },
  {
   "cell_type": "markdown",
   "id": "e06e69b6",
   "metadata": {},
   "source": [
    "## Save initial density matrix and super opt"
   ]
  },
  {
   "cell_type": "code",
   "execution_count": 7,
   "id": "504c76c7",
   "metadata": {},
   "outputs": [],
   "source": [
    "initial_state =initial_state.reshape(-1,1)\n",
    "initial_density_matrix = initial_state @ initial_state.T.conj() "
   ]
  },
  {
   "cell_type": "code",
   "execution_count": 10,
   "id": "2c17de4a",
   "metadata": {},
   "outputs": [
    {
     "data": {
      "image/png": "[encoded data removed]",
      "text/plain": [
       "<Figure size 507.997x264.88 with 1 Axes>"
      ]
     },
     "execution_count": 10,
     "metadata": {},
     "output_type": "execute_result"
    }
   ],
   "source": [
    "qubits = [i for i in range(qc_gates.num_qubits)]\n",
    "qc_gates.append(SaveSuperOp(qc_gates.num_qubits, label=f'U'), qubits)\n",
    "qc_gates.draw('mpl')"
   ]
  },
  {
   "cell_type": "markdown",
   "id": "4f850e07",
   "metadata": {},
   "source": [
    "## Save initial preparation to instruction"
   ]
  },
  {
   "cell_type": "code",
   "execution_count": 105,
   "id": "d66d2bec",
   "metadata": {},
   "outputs": [
    {
     "data": {
      "image/png": "[encoded data removed]",
      "text/plain": [
       "<Figure size 568.197x505.68 with 1 Axes>"
      ]
     },
     "execution_count": 105,
     "metadata": {},
     "output_type": "execute_result"
    }
   ],
   "source": [
    "initial = qc_initial.to_instruction(label='initial')\n",
    "\n",
    "qc =  QuantumCircuit(nqbits)\n",
    "qc.append(initial, list(range(nqbits)))\n",
    "qc = qc.compose(qc_gates)\n",
    "qubits = [i for i in range(qc.num_qubits)]\n",
    "qc.append(SaveDensityMatrix(qc.num_qubits, label=f'rho'), qubits)\n",
    "qc.draw('mpl')"
   ]
  },
  {
   "cell_type": "markdown",
   "id": "2dcfd107",
   "metadata": {},
   "source": [
    "## Initial state to unitary"
   ]
  },
  {
   "cell_type": "code",
   "execution_count": 170,
   "id": "ea61e9fd",
   "metadata": {},
   "outputs": [
    {
     "data": {
      "image/png": "[encoded data removed]",
      "text/plain": [
       "<Figure size 568.197x505.68 with 1 Axes>"
      ]
     },
     "execution_count": 170,
     "metadata": {},
     "output_type": "execute_result"
    }
   ],
   "source": [
    "from qiskit.extensions import UnitaryGate\n",
    "aer_sim = Aer.get_backend('unitary_simulator')\n",
    "job = aer_sim.run(transpile(qc_initial, aer_sim))\n",
    "U = job.result().get_unitary()\n",
    "U = np.round(np.array(U), 16)\n",
    "U = UnitaryGate(U, label='unitary')\n",
    "\n",
    "\n",
    "qc =  QuantumCircuit(nqbits)\n",
    "qc.append(U, list(range(nqbits)))\n",
    "qc = qc.compose(qc_gates)\n",
    "qubits = [i for i in range(qc.num_qubits)]\n",
    "qc.append(SaveDensityMatrix(qc.num_qubits, label=f'rho'), qubits)\n",
    "qc.draw('mpl')"
   ]
  },
  {
   "cell_type": "markdown",
   "id": "1bf5e590",
   "metadata": {},
   "source": [
    "## Define observables to measure\n",
    "\n",
    "We measure \n",
    "$$\n",
    "<X_0>,<Z_0>, \\cdots, <X_7>, <Z_7>\n",
    "$$"
   ]
  },
  {
   "cell_type": "code",
   "execution_count": 51,
   "id": "88ef1adb",
   "metadata": {},
   "outputs": [],
   "source": [
    "nqbits=8\n",
    "observables = []\n",
    "name_gate=''\n",
    "for i in range(nqbits):\n",
    "    name_gate+= 'I' \n",
    "for i in range(nqbits):\n",
    "    # X\n",
    "    op_nameX = name_gate[:i] + 'X' + name_gate[(i+1):]\n",
    "    obs = PauliOp(Pauli(op_nameX))\n",
    "    observables.append(obs)\n",
    "    # Z\n",
    "    op_nameZ = name_gate[:i] + 'Z' + name_gate[(i+1):]\n",
    "    obs = PauliOp(Pauli(op_nameZ))\n",
    "    observables.append(obs)"
   ]
  },
  {
   "cell_type": "markdown",
   "id": "98c92488",
   "metadata": {},
   "source": [
    "## Noise model"
   ]
  },
  {
   "cell_type": "markdown",
   "id": "424ce1be",
   "metadata": {},
   "source": [
    "Transipile model to basis gates"
   ]
  },
  {
   "cell_type": "code",
   "execution_count": 159,
   "id": "e5b3bc24",
   "metadata": {},
   "outputs": [],
   "source": [
    "# Error probabilities\n",
    "prob_1 = 0.01  # 1-qubit gate\n",
    "prob_2 = 0.01   # 2-qubit gate\n",
    "\n",
    "# Depolarizing quantum errors\n",
    "error_1 = noise.depolarizing_error(prob_1, 1)\n",
    "error_2 = noise.depolarizing_error(prob_2, 2)\n",
    "#error_initial = noise.depolarizing_error(1e-13, 1)\n",
    "\n",
    "# Add errors to noise model\n",
    "noise_model = noise.NoiseModel()\n",
    "noise_model.add_all_qubit_quantum_error(error_1, ['x','h','ry','rz'])\n",
    "noise_model.add_all_qubit_quantum_error(error_2, ['cx'])\n",
    "#noise_model.add_all_qubit_quantum_error(error_initial, ['initial'])\n",
    "noise_model.add_basis_gates('unitary')\n",
    "\n",
    "# Get basis gates from noise model\n",
    "basis_gates = noise_model.basis_gates"
   ]
  },
  {
   "cell_type": "code",
   "execution_count": 160,
   "id": "95dc8994",
   "metadata": {},
   "outputs": [
    {
     "name": "stdout",
     "output_type": "stream",
     "text": [
      "NoiseModel:\n",
      "  Basis gates: ['cx', 'h', 'id', 'ry', 'rz', 'sx', 'unitary', 'x']\n",
      "  Instructions with noise: ['rz', 'cx', 'h', 'x', 'ry']\n",
      "  All-qubits errors: ['x', 'h', 'ry', 'rz', 'cx']\n"
     ]
    }
   ],
   "source": [
    "print(noise_model)"
   ]
  },
  {
   "cell_type": "code",
   "execution_count": 174,
   "id": "6634a12a-3cae-44e7-8efc-8e515bdfbf50",
   "metadata": {},
   "outputs": [],
   "source": [
    "from qiskit.providers.aer import AerSimulator\n",
    "aer_sim = AerSimulator(method='density_matrix',noise_model=noise_model,basis_gates=basis_gates)\n",
    "job = transpile(qc, aer_sim, optimization_level=0)\n",
    "result = aer_sim.run(job, shots=1024).result()\n",
    "aer_sim = Aer.get_backend('statevector_simulator')\n",
    "job = aer_sim.run(transpile(qc, aer_sim))\n",
    "qc_state = job.result().get_statevector(qc)\n",
    "\n",
    "####Extract density matrix snapshot from result ####\n",
    "density_matrix = result.data()['rho']# extract label"
   ]
  },
  {
   "cell_type": "code",
   "execution_count": 175,
   "id": "ac09705b",
   "metadata": {},
   "outputs": [
    {
     "data": {
      "text/plain": [
       "0.9267962540565986"
      ]
     },
     "execution_count": 175,
     "metadata": {},
     "output_type": "execute_result"
    }
   ],
   "source": [
    "state_fidelity(density_matrix, qc_state)"
   ]
  },
  {
   "cell_type": "code",
   "execution_count": 167,
   "id": "55cef959",
   "metadata": {},
   "outputs": [
    {
     "data": {
      "text/plain": [
       "1.0000000000000042"
      ]
     },
     "execution_count": 167,
     "metadata": {},
     "output_type": "execute_result"
    }
   ],
   "source": [
    "state_fidelity(density_matrix, qc_state)"
   ]
  },
  {
   "cell_type": "code",
   "execution_count": 173,
   "id": "f444d9ce",
   "metadata": {},
   "outputs": [
    {
     "data": {
      "text/plain": [
       "(1.000000000000018+4.572518517954138e-34j)"
      ]
     },
     "execution_count": 173,
     "metadata": {},
     "output_type": "execute_result"
    }
   ],
   "source": [
    "purity(density_matrix)"
   ]
  },
  {
   "cell_type": "code",
   "execution_count": 169,
   "id": "827b4b37-d0d2-43c8-ba0c-fda6ba22a5a2",
   "metadata": {},
   "outputs": [
    {
     "data": {
      "text/plain": [
       "(1.000000000000008-5.50652424314843e-17j)"
      ]
     },
     "execution_count": 169,
     "metadata": {},
     "output_type": "execute_result"
    }
   ],
   "source": [
    "purity(density_matrix)"
   ]
  },
  {
   "cell_type": "code",
   "execution_count": 13,
   "id": "d51dc64b",
   "metadata": {},
   "outputs": [],
   "source": [
    "aer_sim = AerSimulator(method='superop',noise_model=noise_model,basis_gates=basis_gates)\n",
    "job = transpile(qc_gates, aer_sim)\n",
    "result = aer_sim.run(job).result()\n",
    "superop = result.data()['U']# extract label"
   ]
  },
  {
   "cell_type": "markdown",
   "id": "981f0471",
   "metadata": {},
   "source": [
    "We now call the backen to calculate the expected values of these operators."
   ]
  },
  {
   "cell_type": "code",
   "execution_count": 303,
   "id": "33769005-7f3f-44f8-938f-ee3dc8376b59",
   "metadata": {},
   "outputs": [],
   "source": [
    "results_noise = []\n",
    "results = []\n",
    "for obs in observables:\n",
    "    obs_mat = obs.to_spmatrix()\n",
    "    expect_noise = np.trace(obs_mat @ np.array(density_matrix)).real\n",
    "    results_noise.append(expect_noise)\n",
    "    expect = np.inner(np.conjugate(qc_state), obs_mat.dot(qc_state)).real\n",
    "    results.append(expect)"
   ]
  },
  {
   "cell_type": "code",
   "execution_count": 304,
   "id": "15b0bbe6",
   "metadata": {},
   "outputs": [
    {
     "name": "stdout",
     "output_type": "stream",
     "text": [
      "[ 0.     -0.9466 -0.      0.9466  0.     -0.9854  0.     -0.9854  0.\n",
      " -0.9759  0.     -0.9759  0.     -0.9853  0.9853 -0.    ]\n"
     ]
    }
   ],
   "source": [
    "print(np.array(results).round(4))"
   ]
  },
  {
   "cell_type": "code",
   "execution_count": 305,
   "id": "d67841a9-e9c9-4d6a-a646-0c1810ad2cfd",
   "metadata": {},
   "outputs": [
    {
     "name": "stdout",
     "output_type": "stream",
     "text": [
      "[-0.     -0.7979  0.      0.6741 -0.     -0.5515  0.     -0.3506 -0.\n",
      " -0.1943  0.     -0.0745  0.     -0.0204  0.0057  0.    ]\n"
     ]
    }
   ],
   "source": [
    "print(np.array(results_noise).round(4))"
   ]
  },
  {
   "cell_type": "code",
   "execution_count": 13,
   "id": "51917e85-07b6-4435-967c-b199857d5c85",
   "metadata": {},
   "outputs": [],
   "source": [
    "from qiskit.providers.aer.library import SaveDensityMatrix, SaveUnitary\n",
    "qc = QuantumCircuit(2)\n",
    "#qc.initialize(ground_states[0])\n",
    "qc.h(0)\n",
    "for i in range(qc.num_qubits-1):\n",
    "    qc.x(i)\n",
    "    qc.s(i+1)\n",
    "    \n",
    "qubits = [i for i in range(qc.num_qubits)]\n",
    "qc.append(SaveUnitary(qc.num_qubits, label=f'U'), qubits)\n",
    "\n",
    "backend = Aer.get_backend('aer_simulator')\n",
    "result = backend.run(qc,noise_model=noise_model,basis_gates=basis_gates, shots=1024).result()\n",
    "U = result.data()['U']# extract label"
   ]
  },
  {
   "cell_type": "code",
   "execution_count": 14,
   "id": "92a3a738-7400-4195-b33b-cefe5b7fdcbe",
   "metadata": {},
   "outputs": [
    {
     "name": "stderr",
     "output_type": "stream",
     "text": [
      "C:\\Users\\laiad\\AppData\\Local\\Temp/ipykernel_5016/748565722.py:1: DeprecationWarning: The return type of saved unitaries has been changed from a `numpy.ndarray` to a `qiskit.quantum_info.Operator` as of qiskit-aer 0.10. Accessing numpy array attributes is deprecated and will result in an error in a future release. To continue using saved result objects as arrays you can explicitly cast them using  `np.asarray(object)`.\n",
      "  U.shape\n"
     ]
    },
    {
     "data": {
      "text/plain": [
       "(4, 4)"
      ]
     },
     "execution_count": 14,
     "metadata": {},
     "output_type": "execute_result"
    }
   ],
   "source": [
    "U.shape"
   ]
  },
  {
   "cell_type": "markdown",
   "id": "a3008c64",
   "metadata": {},
   "source": [
    "## Studied gates\n",
    "\n",
    "In this section we present all the sets of gates that we will study. In particular, we study seven sets of gates:\n",
    "\n",
    "1. $G_1=\\{\\text{CNOT, H, NOT}\\}$\n",
    "2. $G_2=\\{\\text{CNOT, H, S}\\}$\n",
    "3. $G_3=\\{\\text{CNOT, H, T}\\}$\n",
    "4. **Matchgate circuits**. Matchgates are two-qubit gates formed from two one-qubit gates A and B with the same determinant: A acts on the even-parity subspace (spanned by |00> and |11>) and B acts on the odd-parity subspace (spanned by |01> and |10>).\n",
    "\n",
    "$$\n",
    "G(A,B) = \n",
    "\\begin{pmatrix} \n",
    "a_1 & 0 & 0 & a_2 \\\\\n",
    "0 & b_1 & b_2 & 0 \\\\\n",
    "0 & b_3 & b_4 & 0 \\\\\n",
    "a_3 & 0 & 0 & a_4\n",
    "\\end{pmatrix}, \\quad |A| = |B|\n",
    "$$\n",
    "\n",
    "5. $D_2$. Diagonal gate of two qubits. For every pair of qubits, we apply the diagonal gate:\n",
    "\n",
    "$$\n",
    "D_2(\\phi_1, \\cdots, \\phi_4) = \n",
    "\\begin{pmatrix} \n",
    "e^{i\\phi_1} & 0 & 0 & 0 \\\\\n",
    "0 & e^{i\\phi_2} & 0 & 0 \\\\\n",
    "0 & 0 & e^{i\\phi_3} & 0 \\\\\n",
    "0 & 0 & 0 & e^{i\\phi_4}\n",
    "\\end{pmatrix}\n",
    "$$\n",
    "\n",
    "With $\\phi_i$ chosen randomly from $[0, 2\\pi)$. All the gates can be applied simultanously. There are $n(n-1)/2$ gates, for $n$ qubits. For $n=8$, there are 28 gates.\n",
    "\n",
    "6. $D_3$. Diagonal gate of tree qubits. For every triplet of qubits, we apply the diagonal gate:\n",
    "$$\n",
    "D_3(\\phi_1, \\cdots, \\phi_8) = \n",
    "\\begin{pmatrix} \n",
    "e^{i\\phi_1} & 0 & 0 & 0 & 0 & 0 & 0 & 0\\\\\n",
    "0 & e^{i\\phi_2} & 0 & 0 & 0 & 0 & 0 & 0\\\\\n",
    "0 & 0 & e^{i\\phi_3} & 0 & 0 & 0 & 0 & 0\\\\\n",
    "0 & 0 & 0 & e^{i\\phi_4} & 0 & 0 & 0 & 0\\\\\n",
    "0 & 0 & 0 & 0 & e^{i\\phi_5} & 0 & 0 & 0\\\\\n",
    "0 & 0 & 0 & 0 & 0 & e^{i\\phi_6} & 0 & 0\\\\\n",
    "0 & 0 & 0 & 0 & 0 & 0 & e^{i\\phi_7} & 0\\\\\n",
    "0 & 0 & 0 & 0 & 0 & 0 & 0 & e^{i\\phi_8}\\\\\n",
    "\\end{pmatrix}\n",
    "$$\n",
    "\n",
    "With $\\phi_i$ chosen randomly from $[0, 2\\pi)$. All the gates can be applied simultanously. There are $n(n-1)(n-2)/6$ gates, for $n$ qubits. For $n=8$ there are 56 gates.\n",
    "\n",
    "7. $D_n$. Diagonal gate for all the qubits. Only one gate is applied to the circuit.\n",
    "\n",
    "$$\n",
    "D_n(\\phi_1, \\cdots, \\phi_{2^n}) = \n",
    "\\begin{pmatrix} \n",
    "e^{i\\phi_1} & 0 & \\cdots & 0  \\\\\n",
    "0 & e^{i\\phi_2} & \\cdots & 0 \\\\\n",
    "\\vdots & \\vdots  & \\ddots & \\vdots \\\\\n",
    " 0 & 0 & \\cdots & e^{i\\phi_{2^n}}\n",
    "\\end{pmatrix}\n",
    "$$\n",
    "\n",
    "\n",
    "With $\\phi_i$ chosen randomly from $[0, 2\\pi)$."
   ]
  },
  {
   "cell_type": "markdown",
   "id": "60bb82a3",
   "metadata": {},
   "source": [
    "# All together\n",
    "\n",
    "We define a function wich takes as input the ground state of the system and the parameters of the circuit (number of gates, gate set, observables) and outputs the expected value of the observables."
   ]
  },
  {
   "cell_type": "code",
   "execution_count": 4,
   "id": "aee9cfd8",
   "metadata": {},
   "outputs": [],
   "source": [
    "class QuantumCircQiskit:\n",
    "    def __init__(self, gates_name, num_gates=50,nqbits=8,observables_type = 'fidelity',\n",
    "                 err_type='depolarizing', err_p1=0.001, err_p2=0.01, err_idle=0.00001):\n",
    "        \n",
    "        self.num_gates = num_gates\n",
    "        self.gates_name = gates_name\n",
    "        self.observables_type = observables_type\n",
    "        self.gates_set = []\n",
    "        self.qubits_set = []\n",
    "        self.nqbits=nqbits\n",
    "        self.coupling_map=None\n",
    "        self.err_type = err_type\n",
    "        if err_type is not None:\n",
    "            noise_model, basis_gates = self.get_noise_model(err_type=err_type, p1=err_p1, p2=err_p2, p_idle=err_idle)\n",
    "        else:\n",
    "            noise_model, basis_gates = None, None\n",
    "            \n",
    "        self.noise_model = noise_model\n",
    "        self.basis_gates = basis_gates\n",
    "        if self.gates_name=='G1':\n",
    "            gates = ['CNOT', 'H', 'X']\n",
    "        if self.gates_name=='G2':\n",
    "            gates = ['CNOT', 'H', 'S']\n",
    "        if self.gates_name=='G3':\n",
    "            gates = ['CNOT', 'H', 'T']  \n",
    "        \n",
    "        qubit_idx = list(range(self.nqbits))\n",
    "        # Store gates\n",
    "        if self.gates_name in ['G1', 'G2', 'G3']:\n",
    "            for i in range(self.num_gates):\n",
    "                # Select random gate\n",
    "                gate = random.sample(gates,1)[0] \n",
    "                self.gates_set.append(gate)\n",
    "                if gate=='CNOT':\n",
    "                    # Select qubit 1 and 2 (different qubits)\n",
    "                    qbit1 = random.sample(qubit_idx,1)[0]\n",
    "                    qubit_idx2 = qubit_idx.copy()\n",
    "                    qubit_idx2.remove(qbit1)\n",
    "                    qbit2 = random.sample(qubit_idx2,1)[0]\n",
    "                    self.qubits_set.append([qbit1, qbit2])\n",
    "                else:\n",
    "                    # Select qubit\n",
    "                    qbit = random.sample(qubit_idx,1)[0]\n",
    "                    self.qubits_set.append([qbit])\n",
    "        elif self.gates_name=='D2':\n",
    "            qubit_idx = list(range(self.nqbits))\n",
    "            self.qubits_set = list(itertools.combinations(qubit_idx, 2))\n",
    "            self.phis = np.random.uniform(0, 2*np.pi, size=(len(self.qubits_set), 2**2))\n",
    "        elif self.gates_name=='D3':\n",
    "            qubit_idx = list(range(self.nqbits))\n",
    "            self.qubits_set = list(itertools.combinations(qubit_idx, 3))\n",
    "            self.phis = np.random.uniform(0, 2*np.pi, size=(len(self.qubits_set), 2**3))\n",
    "        elif self.gates_name=='Dn':\n",
    "            self.phis = np.random.uniform(0, 2*np.pi, size=(2**self.nqbits))\n",
    "        elif self.gates_name=='MG':\n",
    "            for i in range(self.num_gates):\n",
    "                G = self.matchgate()\n",
    "                self.gates_set.append(G)\n",
    "                qbit1 = random.sample(qubit_idx,1)[0]\n",
    "                qubit_idx2 = qubit_idx.copy()\n",
    "                qubit_idx2.remove(qbit1)\n",
    "                qbit2 = random.sample(qubit_idx2,1)[0]\n",
    "                self.qubits_set.append([qbit1, qbit2])\n",
    "\n",
    "                \n",
    "    def initialization(self, initial_state):\n",
    "        # 1. INITIALIZATION\n",
    "        # Define initial state\n",
    "        initial_state = initial_state.round(6)\n",
    "        initial_state/=np.sqrt(np.sum(initial_state**2))\n",
    "\n",
    "        # Define qiskit circuit to initialize quantum state\n",
    "        self.nqbits = int(np.log2(initial_state.shape[0]))\n",
    "        qc_initial = QuantumCircuit(self.nqbits)\n",
    "        qc_initial.initialize(initial_state, list(range(self.nqbits)))\n",
    "        \n",
    "        aer_sim = Aer.get_backend('unitary_simulator')\n",
    "        job = aer_sim.run(transpile(qc_initial, aer_sim))\n",
    "        U = job.result().get_unitary()\n",
    "        U = np.round(np.array(U), 16)\n",
    "        U = UnitaryGate(U, label='unitary')\n",
    "\n",
    "        return U\n",
    "\n",
    "    def apply_G_gates(self, qc):\n",
    "        # Apply random gates to random qubits\n",
    "        for i in range(self.num_gates):\n",
    "            # Select random gate\n",
    "            # Select random gate\n",
    "            gate = self.gates_set[i]\n",
    "            if gate=='CNOT': # For 2-qubit gates\n",
    "                # Select qubit 1 and 2 (different qubits)\n",
    "                qbit1, qbit2 = self.qubits_set[i]\n",
    "                # Apply gate to qubits\n",
    "                qc.cx(qbit1, qbit2) \n",
    "                # Appply identity operator to all idle qubits if we use an ide noise model\n",
    "                if self.err_type=='depolarizing_idle' or self.err_type=='amplitude_damping_idle' or self.err_type=='phase_damping_idle':\n",
    "                    qubit_idx = list(range(self.nqbits))\n",
    "                    qubit_idx.remove(qbit1)\n",
    "                    qubit_idx.remove(qbit2)\n",
    "                    # Apply identity gates to other gates\n",
    "                    for qbit in qubit_idx:\n",
    "                        qc.id(qbit)\n",
    "            else: # For 1-qubit gates\n",
    "                # Select qubit\n",
    "                qbit = self.qubits_set[i][0]\n",
    "                if gate=='X':# Apply gate\n",
    "                    qc.x(qbit) \n",
    "                if gate=='S':\n",
    "                    qc.s(qbit) \n",
    "                if gate=='H':\n",
    "                    qc.h(qbit) \n",
    "                if gate=='T':\n",
    "                    qc.t(qbit) \n",
    "                # Appply identity operator to all idle qubits if we use an ide noise model\n",
    "                if self.err_type=='depolarizing_idle' or self.err_type=='amplitude_damping_idle' or self.err_type=='phase_damping_idle':\n",
    "                    qubit_idx = list(range(self.nqbits))\n",
    "                    qubit_idx.remove(qbit)\n",
    "                    # Apply identity gates to other gates\n",
    "                    for qbit in qubit_idx:\n",
    "                        qc.id(qbit)\n",
    "                \n",
    "    \n",
    "    def apply_matchgates(self, qc):\n",
    "        for i in range(self.num_gates):\n",
    "            gate = self.gates_set[i]\n",
    "            qbit1, qbit2 = self.qubits_set[i]\n",
    "            qc.unitary(gate, [qbit1, qbit2], label='MG')\n",
    "            # Appply identity operator to all idle qubits if we use an ide noise model\n",
    "            if self.err_type=='depolarizing_idle' or self.err_type=='amplitude_damping_idle' or self.err_type=='phase_damping_idle':\n",
    "                qubit_idx = list(range(self.nqbits))\n",
    "                qubit_idx.remove(qbit1)\n",
    "                qubit_idx.remove(qbit2)\n",
    "                # Apply identity gates to other gates\n",
    "                for qbit in qubit_idx:\n",
    "                    qc.id(qbit)\n",
    "            \n",
    "    def matchgate(self):\n",
    "        A = unitary_group.rvs(2)\n",
    "        B = unitary_group.rvs(2)\n",
    "        detA = np.linalg.det(A)\n",
    "        detB = np.linalg.det(B)\n",
    "        B = B/np.sqrt(detB)*np.sqrt(detA)\n",
    "        G = np.array([[A[0,0],0,0,A[0,1]],[0,B[0,0], B[0,1],0],\n",
    "                      [0,B[1,0],B[1,1],0],[A[1,0],0,0,A[1,1]]])\n",
    "        return G\n",
    "    \n",
    "    def apply_Dn(self, qc):\n",
    "        # Apply Dn gate\n",
    "        diagonals = np.exp(1j*self.phis)\n",
    "        qc += Diagonal(diagonals)\n",
    "        \n",
    "    def apply_D2(self, qc):\n",
    "        i=0\n",
    "        for pair in self.qubits_set:\n",
    "            # Apply D2 gate\n",
    "            diagonals = np.diag(np.exp(1j*self.phis[i]))\n",
    "            D2 = UnitaryGate(diagonals)\n",
    "            qc.append(D2, [pair[0], pair[1]])\n",
    "            i+=1\n",
    "            # Appply identity operator to all idle qubits if we use an ide noise model\n",
    "            if self.err_type=='depolarizing_idle' or self.err_type=='amplitude_damping_idle' or self.err_type=='phase_damping_idle':\n",
    "                qubit_idx = list(range(self.nqbits))\n",
    "                qubit_idx.remove(pair[0])\n",
    "                qubit_idx.remove(pair[1])\n",
    "                # Apply identity gates to other gates\n",
    "                for qbit in qubit_idx:\n",
    "                    qc.id(qbit)\n",
    "            \n",
    "    def apply_D3(self, qc):\n",
    "        i=0\n",
    "        for pair in self.qubits_set:\n",
    "            # Apply D3 gate\n",
    "            diagonals = np.diag(np.exp(1j*self.phis[i]))\n",
    "            D3 = UnitaryGate(diagonals)\n",
    "            qc.append(D3, [pair[0], pair[1], pair[2]])\n",
    "            i+=1\n",
    "            # Appply identity operator to all idle qubits if we use an ide noise model\n",
    "            if self.err_type=='depolarizing_idle' or self.err_type=='amplitude_damping_idle' or err_type=='phase_damping_idle':\n",
    "                qubit_idx = list(range(self.nqbits))\n",
    "                qubit_idx.remove(pair[0])\n",
    "                qubit_idx.remove(pair[1])\n",
    "                qubit_idx.remove(pair[2])\n",
    "                # Apply identity gates to other gates\n",
    "                for qbit in qubit_idx:\n",
    "                    qc.id(qbit)\n",
    "                    \n",
    "    def get_noise_model(self, err_type='depolarizing', p1=0.001, p2=0.01, p_idle=0.0001):\n",
    "        # Error probabilities: p1=1-qubit gate, p2=2-qubit gate\n",
    "        if err_type=='depolarizing' or err_type=='depolarizing_idle':\n",
    "            # Depolarizing quantum errors\n",
    "            error_1 = noise.depolarizing_error(p1, 1)\n",
    "            error_2 = noise.depolarizing_error(p2, 2)\n",
    "            error_idle = noise.depolarizing_error(p_idle, 1)\n",
    "        elif err_type=='phase_damping' or err_type=='phase_damping_idle':\n",
    "            # Depolarizing quantum errors\n",
    "            error_1 = noise.phase_damping_error(p1, 1)\n",
    "            error_2 = noise.phase_damping_error(p2, 2)\n",
    "            error_2 = error_1.tensor(error_2)\n",
    "            error_idle = noise.phase_damping_error(p_idle, 1)\n",
    "        elif err_type=='amplitude_damping' or err_type=='amplitude_damping_idle':\n",
    "            # Construct the error\n",
    "            error_1 = noise.amplitude_damping_error(p1)\n",
    "            error_2 = noise.amplitude_damping_error(p2)\n",
    "            error_2 = error_1.tensor(error_2)\n",
    "            error_idle = noise.amplitude_damping_error(p_idle, 1)\n",
    "        elif err_type=='fake':\n",
    "            provider = FakeProvider()\n",
    "            names = [ b.name() for b in provider.backends() if b.configuration().n_qubits >= self.nqbits]\n",
    "            if len(names)==0:\n",
    "                raise ValueError('Error type not supported')\n",
    "            fake = provider.get_backend(names[7])\n",
    "            # Get coupling map from backend\n",
    "            coupling_map = fake.configuration().coupling_map\n",
    "            cmap = [[self.nqbits-1,1]]\n",
    "            for i,j in coupling_map:\n",
    "                if i<nqbits and j<nqbits:\n",
    "                    cmap.append([i,j]) \n",
    "            self.coupling_map = cmap\n",
    "            noise_model = NoiseModel.from_backend(fake)\n",
    "            basis_gates = noise_model.basis_gates\n",
    "            return noise_model, basis_gates\n",
    "        else:\n",
    "            raise ValueError('Error type not supported', err_type)\n",
    "        # Add errors to noise model\n",
    "        noise_model = noise.NoiseModel()\n",
    "        \n",
    "        noise_model.add_all_qubit_quantum_error(error_1, ['x','h','ry','rz','u1', 'u2', 'u3'])\n",
    "        noise_model.add_all_qubit_quantum_error(error_2, ['cx'])\n",
    "        noise_model.add_basis_gates('unitary')\n",
    "        if err_type=='depolarizing_idle' or err_type=='amplitude_damping_idle' or err_type=='phase_damping_idle':\n",
    "            noise_model.add_all_qubit_quantum_error(error_idle, ['id'])\n",
    "\n",
    "        # Get basis gates from noise model\n",
    "        basis_gates = noise_model.basis_gates\n",
    "        return noise_model, basis_gates\n",
    "        \n",
    "    def get_observables(self):\n",
    "        observables = []\n",
    "        name_gate=''\n",
    "        for i in range(self.nqbits):\n",
    "            name_gate+= 'I' \n",
    "        for i in range(self.nqbits):\n",
    "            # X\n",
    "            op_nameX = name_gate[:i] + 'X' + name_gate[(i+1):]\n",
    "            obs = PauliOp(Pauli(op_nameX))\n",
    "            observables.append(obs)\n",
    "            # Y\n",
    "            op_nameY = name_gate[:i] + 'Y' + name_gate[(i+1):]\n",
    "            obs = PauliOp(Pauli(op_nameY))\n",
    "            observables.append(obs)\n",
    "            # Z\n",
    "            op_nameZ = name_gate[:i] + 'Z' + name_gate[(i+1):]\n",
    "            obs = PauliOp(Pauli(op_nameZ))\n",
    "            observables.append(obs)\n",
    "        return observables\n",
    "\n",
    "    def run_circuit(self, initial_state):\n",
    "\n",
    "        # 1. INITIALIZATION\n",
    "        U = self.initialization(initial_state)\n",
    "        \n",
    "        qc =  QuantumCircuit(self.nqbits)\n",
    "        qc.append(U, list(range(self.nqbits)))\n",
    "        # 2. DEFINE RANDOM CIRCUIT\n",
    "        if self.gates_name in ['G1', 'G2', 'G3']:\n",
    "            self.apply_G_gates(qc)\n",
    "        elif self.gates_name=='D2':\n",
    "            self.apply_D2(qc)\n",
    "        elif self.gates_name=='D3':\n",
    "            self.apply_D3(qc)\n",
    "        elif self.gates_name=='Dn':\n",
    "            self.apply_Dn(qc)\n",
    "        elif self.gates_name=='MG':\n",
    "            self.apply_matchgates(qc)\n",
    "        else:\n",
    "            print('Unknown gate')\n",
    "\n",
    "        # Obtain circuit\n",
    "        #circuit = qc.to_circ()\n",
    "\n",
    "        # 3. DEFINE OBSERVABLES\n",
    "        # Define observables to measure\n",
    "        if self.observables_type=='single' or self.observables_type=='all':\n",
    "            observables = self.get_observables()\n",
    "\n",
    "        # 4. RUN CIRCUIT\n",
    "        results = []\n",
    "        results_noise = []\n",
    "        results_noise2 = []\n",
    "        \n",
    "        backend = Aer.get_backend('statevector_simulator')\n",
    "        if self.noise_model is not None:\n",
    "            qubits = [i for i in range(qc.num_qubits)]\n",
    "            qc.append(SaveDensityMatrix(qc.num_qubits, label=f'rho'), qubits)\n",
    "            # Perform a noisy simulation\n",
    "            backend = AerSimulator(method='density_matrix',noise_model=self.noise_model,basis_gates=self.basis_gates)\n",
    "            job = transpile(qc, backend)\n",
    "            result = backend.run(job, shots=1024).result()\n",
    "\n",
    "            ####Extract density matrix snapshot from result ####\n",
    "            density_matrix = result.data()['rho']# extract label\n",
    "            \n",
    "        else:\n",
    "            job = backend.run(transpile(qc, backend))\n",
    "            qc_state = job.result().get_statevector(qc)\n",
    "        \n",
    "        if self.observables_type=='fidelity':\n",
    "            backend = Aer.get_backend('statevector_simulator')\n",
    "            job = backend.run(transpile(qc, backend))\n",
    "            qc_state_noiseless = job.result().get_statevector(qc)\n",
    "            state_noise = density_matrix\n",
    "            state_noiseless = Statevector(qc_state_noiseless)\n",
    "            fidelity = state_fidelity(state_noise,state_noiseless)\n",
    "            return np.array(state_noise), np.array(state_noiseless), fidelity\n",
    "        \n",
    "        if self.observables_type=='all':\n",
    "            backend = Aer.get_backend('statevector_simulator')\n",
    "            job = backend.run(transpile(qc, backend))\n",
    "            qc_state_noiseless = job.result().get_statevector(qc)\n",
    "            state_noise = density_matrix\n",
    "            state_noiseless = Statevector(qc_state_noiseless)\n",
    "            fidelity = state_fidelity(state_noise,state_noiseless)\n",
    "            for obs in observables:\n",
    "                obs_mat = obs.to_spmatrix()\n",
    "                expect = np.trace(obs_mat @ np.array(state_noise)).real\n",
    "                results_noise.append(expect)\n",
    "                expect = np.inner(np.conjugate(state_noiseless), obs_mat.dot(state_noiseless)).real\n",
    "                results.append(expect)\n",
    "            return np.array(state_noise), np.array(state_noiseless), fidelity, np.array(results), np.array(results_noise)\n",
    "        \n",
    "        if self.observables_type=='single':\n",
    "            for obs in observables:\n",
    "                obs_mat = obs.to_spmatrix()\n",
    "                expect = np.inner(np.conjugate(qc_state), obs_mat.dot(qc_state)).real\n",
    "                results.append(expect)\n",
    "\n",
    "            return np.array(results)\n",
    "        else:\n",
    "            return qc_state"
   ]
  },
  {
   "cell_type": "code",
   "execution_count": 5,
   "id": "403e12e6",
   "metadata": {
    "tags": []
   },
   "outputs": [
    {
     "name": "stderr",
     "output_type": "stream",
     "text": [
      "100%|██████████| 300/300 [40:03<00:00,  8.01s/it]\n"
     ]
    }
   ],
   "source": [
    "# Run circuit for all values of ground states:\n",
    "state_noise_list, state_noiseless_list, fidelity_list, obs_res, obs_noise = [],[],[], [], []\n",
    "num_states =ground_states.shape[0]\n",
    "qc = QuantumCircQiskit('G3', num_gates=65,nqbits=8,observables_type = 'all',\n",
    "                      err_type='amplitude_damping', err_p1=0.001, err_p2=0.001)\n",
    "\n",
    "for i in tqdm(range(num_states)):\n",
    "    state_noise, state_noiseless, fidelity, res, res_noise = qc.run_circuit(ground_states[i])\n",
    "    state_noise_list.append(state_noise)\n",
    "    state_noiseless_list.append(state_noiseless)\n",
    "    fidelity_list.append(fidelity)\n",
    "    obs_res.append(res)\n",
    "    obs_noise.append(res_noise)\n",
    "obs_res = np.array(obs_res) \n",
    "obs_noise = np.array(obs_noise) "
   ]
  },
  {
   "cell_type": "code",
   "execution_count": 6,
   "id": "9fd15a71",
   "metadata": {},
   "outputs": [
    {
     "data": {
      "text/plain": [
       "0.9758922105931805"
      ]
     },
     "execution_count": 6,
     "metadata": {},
     "output_type": "execute_result"
    }
   ],
   "source": [
    "np.mean(fidelity_list)"
   ]
  },
  {
   "cell_type": "code",
   "execution_count": 49,
   "id": "a966db3e",
   "metadata": {},
   "outputs": [
    {
     "data": {
      "image/png": "[encoded data removed]",
      "text/plain": [
       "<Figure size 720x720 with 1 Axes>"
      ]
     },
     "metadata": {
      "needs_background": "light"
     },
     "output_type": "display_data"
    }
   ],
   "source": [
    "idx=90\n",
    "fig = plt.figure(figsize=(10,10))\n",
    "plt.plot(obs_res[idx], label='noiseless')\n",
    "plt.plot(obs_noise[idx], label='noisy')\n",
    "plt.legend()\n",
    "plt.show()"
   ]
  },
  {
   "cell_type": "markdown",
   "id": "5e634e88",
   "metadata": {},
   "source": [
    "## Generate target\n",
    "\n",
    "The target of the model is\n",
    "\n",
    "$$\n",
    "y(t) = (\\Delta E_1(r), \\Delta E_2(r))\n",
    "$$\n",
    "\n",
    "We normalize $y(r)$ so that it lies between 0 and 1 for all the data."
   ]
  },
  {
   "cell_type": "code",
   "execution_count": 24,
   "id": "20aaf9cc",
   "metadata": {},
   "outputs": [],
   "source": [
    "y = np.zeros((num_states, 2))\n",
    "y[:,0] = spectrums[:,1] - spectrums[:,0]\n",
    "y[:,1] = spectrums[:,2] - spectrums[:,0]"
   ]
  },
  {
   "cell_type": "markdown",
   "id": "8f792a44",
   "metadata": {},
   "source": [
    "## Train and test data"
   ]
  },
  {
   "cell_type": "code",
   "execution_count": 41,
   "id": "ec8de47d",
   "metadata": {},
   "outputs": [],
   "source": [
    "X_train, X_test, y_train, y_test, bond_lengths_train, bond_lengths_test = train_test_split( \n",
    "    obs_res, y, bond_lengths, test_size=0.33, random_state=42)"
   ]
  },
  {
   "cell_type": "code",
   "execution_count": 31,
   "id": "98735924",
   "metadata": {},
   "outputs": [],
   "source": [
    "size = obs_res.shape[0]\n",
    "idx1 = int(0.2*size)\n",
    "idx2 = int(0.5*size)\n",
    "train_idx=list(range(idx1)) + list(range(idx2, size))\n",
    "X_train, y_train, bond_lengths_train = obs_res[train_idx], y[train_idx], bond_lengths[train_idx]\n",
    "X_test, y_test, bond_lengths_test = obs_res[idx1:idx2], y[idx1:idx2], bond_lengths[idx1:idx2]"
   ]
  },
  {
   "cell_type": "markdown",
   "id": "f9b0759d",
   "metadata": {},
   "source": [
    "## Scale y"
   ]
  },
  {
   "cell_type": "code",
   "execution_count": 44,
   "id": "aedda18c",
   "metadata": {},
   "outputs": [],
   "source": [
    "scaler = MinMaxScaler()\n",
    "y_train_scaled = scaler.fit_transform(y_train)\n",
    "y_test_scaled = scaler.transform(y_test)"
   ]
  },
  {
   "cell_type": "markdown",
   "id": "c9d2b296",
   "metadata": {},
   "source": [
    "## Train Ridge regression"
   ]
  },
  {
   "cell_type": "code",
   "execution_count": 47,
   "id": "0654a000",
   "metadata": {},
   "outputs": [
    {
     "data": {
      "text/plain": [
       "Ridge(alpha=0.01)"
      ]
     },
     "execution_count": 47,
     "metadata": {},
     "output_type": "execute_result"
    }
   ],
   "source": [
    "lm = Ridge(alpha=1e-2)\n",
    "lm.fit(X_train, y_train_scaled)"
   ]
  },
  {
   "cell_type": "markdown",
   "id": "fbdd759e",
   "metadata": {},
   "source": [
    "## Test model"
   ]
  },
  {
   "cell_type": "code",
   "execution_count": 48,
   "id": "81f7bb4f",
   "metadata": {},
   "outputs": [
    {
     "name": "stdout",
     "output_type": "stream",
     "text": [
      "Mean Square Error  0.0001408256735698118\n"
     ]
    },
    {
     "data": {
      "image/png": "[encoded data removed]",
      "text/plain": [
       "<Figure size 432x288 with 1 Axes>"
      ]
     },
     "metadata": {
      "needs_background": "light"
     },
     "output_type": "display_data"
    }
   ],
   "source": [
    "y_hat = lm.predict(X_test)\n",
    "y_hat = scaler.inverse_transform(y_hat)\n",
    "\n",
    "idx_rm = (y_hat[:,0]>0.09) | (y_hat[:,0]<0.0)\n",
    "mse = np.mean(np.square(y_hat[~idx_rm,0] - y_test[~idx_rm,0]))\n",
    "#mse = np.mean(np.square(y_hat[:,0] - y_test[:,0]))\n",
    "print('Mean Square Error ', mse)\n",
    "\n",
    "plt.scatter(bond_lengths_test,y_test[:,0], label='Exact E1', marker='o')\n",
    "plt.scatter(bond_lengths_test, y_hat[:,0], label='Predicted E1', marker='o')\n",
    "#plt.ylim(0.065,0.085)\n",
    "plt.legend()\n",
    "plt.show()"
   ]
  },
  {
   "cell_type": "markdown",
   "id": "254bc598",
   "metadata": {},
   "source": [
    "Now we just have to repeat this experiment 400 times for all the families of gates. The scripts `runQC`and `runQC_H2O` can be used to run the simulations. To run them, just type:\n",
    "\n",
    "`python runQC.py num_gates gates_set observable_type `\n",
    "\n",
    "where \n",
    "\n",
    "+ num_gates is the number of gates (in this work we have used 20, 50, 100, 150, 200)\n",
    "+ gates_set is the name of the gate set, from the list [G1, G2, G3, MG, D2, D3, Dn]\n",
    "+ and observable_type must be single"
   ]
  },
  {
   "cell_type": "code",
   "execution_count": 25,
   "id": "20b2b0f2",
   "metadata": {},
   "outputs": [
    {
     "data": {
      "image/png": "[encoded data removed]",
      "text/plain": [
       "<Figure size 360x360 with 1 Axes>"
      ]
     },
     "execution_count": 25,
     "metadata": {},
     "output_type": "execute_result"
    }
   ],
   "source": [
    "from qiskit.visualization import plot_bloch_vector\n",
    "import numpy as np\n",
    "import matplotlib.pyplot as plt\n",
    "\n",
    "theta = -np.pi/3\n",
    "psi = 0\n",
    "\n",
    "state = [np.sin(theta)*np.cos(psi), np.sin(theta)*np.sin(psi), np.cos(theta)]\n",
    "#fig = plt.figure()\n",
    "#ax = fig.add_subplot()\n",
    "plot_bloch_vector(state, title=\"\")\n",
    "#ax.text(0,1,'psi')\n",
    "\n",
    "#plt.show()"
   ]
  },
  {
   "cell_type": "code",
   "execution_count": 18,
   "id": "8b395ebf-22c6-46d5-b495-cb597a6d2760",
   "metadata": {},
   "outputs": [
    {
     "data": {
      "text/html": [
       "<pre style=\"word-wrap: normal;white-space: pre;background: #fff0;line-height: 1.1;font-family: &quot;Courier New&quot;,Courier,monospace\">   ┌──────────┐\n",
       "q: ┤ U(θ,Φ,λ) ├\n",
       "   └──────────┘</pre>"
      ],
      "text/plain": [
       "   ┌──────────┐\n",
       "q: ┤ U(θ,Φ,λ) ├\n",
       "   └──────────┘"
      ]
     },
     "execution_count": 18,
     "metadata": {},
     "output_type": "execute_result"
    }
   ],
   "source": [
    "from qiskit.circuit import QuantumCircuit, Parameter\n",
    "qc = QuantumCircuit(1)\n",
    "lamb = Parameter('λ')\n",
    "theta = Parameter('θ')\n",
    "phi = Parameter('Φ')\n",
    "qc.u(theta, phi, lamb,0)\n",
    "qc.draw()"
   ]
  },
  {
   "cell_type": "code",
   "execution_count": null,
   "id": "7d37de2a-57f5-4ff3-bbec-0e973c632592",
   "metadata": {},
   "outputs": [],
   "source": []
  }
 ],
 "metadata": {
  "kernelspec": {
   "display_name": "Quantum",
   "language": "python",
   "name": "quantum"
  },
  "language_info": {
   "codemirror_mode": {
    "name": "ipython",
    "version": 3
   },
   "file_extension": ".py",
   "mimetype": "text/x-python",
   "name": "python",
   "nbconvert_exporter": "python",
   "pygments_lexer": "ipython3",
   "version": "3.9.7"
  },
  "vscode": {
   "interpreter": {
    "hash": "24e28133c84e3bf1c44782f88a26012d9b45209b80f4012856f00c6d19a7ea9d"
   }
  }
 },
 "nbformat": 4,
 "nbformat_minor": 5
}
